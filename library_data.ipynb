{
 "cells": [
  {
   "cell_type": "markdown",
   "metadata": {},
   "source": [
    "# Library Data Integration"
   ]
  },
  {
   "cell_type": "markdown",
   "metadata": {},
   "source": [
    "## Imports"
   ]
  },
  {
   "cell_type": "code",
   "execution_count": 52,
   "metadata": {},
   "outputs": [],
   "source": [
    "from pyspark.sql.types import ArrayType, StringType, BooleanType, StructField, StructType, LongType"
   ]
  },
  {
   "cell_type": "code",
   "execution_count": 53,
   "metadata": {},
   "outputs": [],
   "source": [
    "import great_expectations as gx"
   ]
  },
  {
   "cell_type": "markdown",
   "metadata": {},
   "source": [
    "## Streaming Process"
   ]
  },
  {
   "cell_type": "markdown",
   "metadata": {},
   "source": [
    "### Define the source schema"
   ]
  },
  {
   "cell_type": "code",
   "execution_count": 54,
   "metadata": {},
   "outputs": [],
   "source": [
    "    schema = StructType(\n",
    "        [\n",
    "            StructField(\"key\", StringType(), True),\n",
    "            StructField(\"name\", StringType(), True),\n",
    "            StructField(\"subject_type\", StringType(), True),\n",
    "            StructField(\"work_count\", LongType(), True),\n",
    "            StructField(\n",
    "                \"works\",\n",
    "                ArrayType(\n",
    "                    StructType(\n",
    "                        [\n",
    "                            StructField(\n",
    "                                \"authors\",\n",
    "                                ArrayType(\n",
    "                                    StructType(\n",
    "                                        [\n",
    "                                            StructField(\"key\", StringType(), True),\n",
    "                                            StructField(\"name\", StringType(), True),\n",
    "                                        ]\n",
    "                                    ),\n",
    "                                    True,\n",
    "                                ),\n",
    "                                True,\n",
    "                            ),\n",
    "                            StructField(\n",
    "                                \"availability\",\n",
    "                                StructType(\n",
    "                                    [\n",
    "                                        StructField(\"__src__\", StringType(), True),\n",
    "                                        StructField(\n",
    "                                            \"available_to_borrow\", BooleanType(), True\n",
    "                                        ),\n",
    "                                        StructField(\n",
    "                                            \"available_to_browse\", BooleanType(), True\n",
    "                                        ),\n",
    "                                        StructField(\n",
    "                                            \"available_to_waitlist\", BooleanType(), True\n",
    "                                        ),\n",
    "                                        StructField(\"identifier\", StringType(), True),\n",
    "                                        StructField(\n",
    "                                            \"is_browseable\", BooleanType(), True\n",
    "                                        ),\n",
    "                                        StructField(\"is_lendable\", BooleanType(), True),\n",
    "                                        StructField(\n",
    "                                            \"is_previewable\", BooleanType(), True\n",
    "                                        ),\n",
    "                                        StructField(\n",
    "                                            \"is_printdisabled\", BooleanType(), True\n",
    "                                        ),\n",
    "                                        StructField(\"is_readable\", BooleanType(), True),\n",
    "                                        StructField(\n",
    "                                            \"is_restricted\", BooleanType(), True\n",
    "                                        ),\n",
    "                                        StructField(\"isbn\", StringType(), True),\n",
    "                                        StructField(\n",
    "                                            \"last_loan_date\", StringType(), True\n",
    "                                        ),\n",
    "                                        StructField(\n",
    "                                            \"last_waitlist_date\", StringType(), True\n",
    "                                        ),\n",
    "                                        StructField(\"num_waitlist\", StringType(), True),\n",
    "                                        StructField(\"oclc\", StringType(), True),\n",
    "                                        StructField(\n",
    "                                            \"openlibrary_edition\", StringType(), True\n",
    "                                        ),\n",
    "                                        StructField(\n",
    "                                            \"openlibrary_work\", StringType(), True\n",
    "                                        ),\n",
    "                                        StructField(\"status\", StringType(), True),\n",
    "                                    ]\n",
    "                                ),\n",
    "                                True,\n",
    "                            ),\n",
    "                            StructField(\"cover_edition_key\", StringType(), True),\n",
    "                            StructField(\"cover_id\", LongType(), True),\n",
    "                            StructField(\"edition_count\", LongType(), True),\n",
    "                            StructField(\"first_publish_year\", LongType(), True),\n",
    "                            StructField(\"has_fulltext\", BooleanType(), True),\n",
    "                            StructField(\"ia\", StringType(), True),\n",
    "                            StructField(\n",
    "                                \"ia_collection\", ArrayType(StringType(), True), True\n",
    "                            ),\n",
    "                            StructField(\"key\", StringType(), True),\n",
    "                            StructField(\"lending_edition\", StringType(), True),\n",
    "                            StructField(\"lending_identifier\", StringType(), True),\n",
    "                            StructField(\"lendinglibrary\", BooleanType(), True),\n",
    "                            StructField(\"printdisabled\", BooleanType(), True),\n",
    "                            StructField(\"public_scan\", BooleanType(), True),\n",
    "                            StructField(\"subject\", ArrayType(StringType(), True), True),\n",
    "                            StructField(\"title\", StringType(), True),\n",
    "                        ]\n",
    "                    ),\n",
    "                    True,\n",
    "                ),\n",
    "                True,\n",
    "            ),\n",
    "        ]\n",
    "    )"
   ]
  },
  {
   "cell_type": "markdown",
   "metadata": {},
   "source": [
    "### Creating the streaming source"
   ]
  },
  {
   "cell_type": "code",
   "execution_count": 55,
   "metadata": {},
   "outputs": [],
   "source": [
    "src_data = spark.readStream.format(\"json\").schema(schema).load(\"./raw/*\")"
   ]
  },
  {
   "cell_type": "code",
   "execution_count": 56,
   "metadata": {
    "scrolled": true
   },
   "outputs": [
    {
     "name": "stdout",
     "output_type": "stream",
     "text": [
      "root\n",
      " |-- key: string (nullable = true)\n",
      " |-- name: string (nullable = true)\n",
      " |-- subject_type: string (nullable = true)\n",
      " |-- work_count: long (nullable = true)\n",
      " |-- works: array (nullable = true)\n",
      " |    |-- element: struct (containsNull = true)\n",
      " |    |    |-- authors: array (nullable = true)\n",
      " |    |    |    |-- element: struct (containsNull = true)\n",
      " |    |    |    |    |-- key: string (nullable = true)\n",
      " |    |    |    |    |-- name: string (nullable = true)\n",
      " |    |    |-- availability: struct (nullable = true)\n",
      " |    |    |    |-- __src__: string (nullable = true)\n",
      " |    |    |    |-- available_to_borrow: boolean (nullable = true)\n",
      " |    |    |    |-- available_to_browse: boolean (nullable = true)\n",
      " |    |    |    |-- available_to_waitlist: boolean (nullable = true)\n",
      " |    |    |    |-- identifier: string (nullable = true)\n",
      " |    |    |    |-- is_browseable: boolean (nullable = true)\n",
      " |    |    |    |-- is_lendable: boolean (nullable = true)\n",
      " |    |    |    |-- is_previewable: boolean (nullable = true)\n",
      " |    |    |    |-- is_printdisabled: boolean (nullable = true)\n",
      " |    |    |    |-- is_readable: boolean (nullable = true)\n",
      " |    |    |    |-- is_restricted: boolean (nullable = true)\n",
      " |    |    |    |-- isbn: string (nullable = true)\n",
      " |    |    |    |-- last_loan_date: string (nullable = true)\n",
      " |    |    |    |-- last_waitlist_date: string (nullable = true)\n",
      " |    |    |    |-- num_waitlist: string (nullable = true)\n",
      " |    |    |    |-- oclc: string (nullable = true)\n",
      " |    |    |    |-- openlibrary_edition: string (nullable = true)\n",
      " |    |    |    |-- openlibrary_work: string (nullable = true)\n",
      " |    |    |    |-- status: string (nullable = true)\n",
      " |    |    |-- cover_edition_key: string (nullable = true)\n",
      " |    |    |-- cover_id: long (nullable = true)\n",
      " |    |    |-- edition_count: long (nullable = true)\n",
      " |    |    |-- first_publish_year: long (nullable = true)\n",
      " |    |    |-- has_fulltext: boolean (nullable = true)\n",
      " |    |    |-- ia: string (nullable = true)\n",
      " |    |    |-- ia_collection: array (nullable = true)\n",
      " |    |    |    |-- element: string (containsNull = true)\n",
      " |    |    |-- key: string (nullable = true)\n",
      " |    |    |-- lending_edition: string (nullable = true)\n",
      " |    |    |-- lending_identifier: string (nullable = true)\n",
      " |    |    |-- lendinglibrary: boolean (nullable = true)\n",
      " |    |    |-- printdisabled: boolean (nullable = true)\n",
      " |    |    |-- public_scan: boolean (nullable = true)\n",
      " |    |    |-- subject: array (nullable = true)\n",
      " |    |    |    |-- element: string (containsNull = true)\n",
      " |    |    |-- title: string (nullable = true)\n",
      "\n"
     ]
    }
   ],
   "source": [
    "src_data.printSchema()"
   ]
  },
  {
   "cell_type": "markdown",
   "metadata": {},
   "source": [
    "### Transformations"
   ]
  },
  {
   "cell_type": "markdown",
   "metadata": {},
   "source": [
    "#### Explode the `works` field\n",
    "This turns all elements in the array into separate rows"
   ]
  },
  {
   "cell_type": "code",
   "execution_count": 57,
   "metadata": {},
   "outputs": [],
   "source": [
    "works_explode =src_data.selectExpr(\n",
    "    \"key\",\n",
    "    \"name\",\n",
    "    \"subject_type\",\n",
    "    \"explode(works) as works\",\n",
    "    \"input_file_name() as __source_file_name\"\n",
    ")\n",
    "# first_explode.show(n=1,truncate=False)"
   ]
  },
  {
   "cell_type": "code",
   "execution_count": 58,
   "metadata": {
    "scrolled": true
   },
   "outputs": [
    {
     "name": "stdout",
     "output_type": "stream",
     "text": [
      "root\n",
      " |-- key: string (nullable = true)\n",
      " |-- name: string (nullable = true)\n",
      " |-- subject_type: string (nullable = true)\n",
      " |-- works: struct (nullable = true)\n",
      " |    |-- authors: array (nullable = true)\n",
      " |    |    |-- element: struct (containsNull = true)\n",
      " |    |    |    |-- key: string (nullable = true)\n",
      " |    |    |    |-- name: string (nullable = true)\n",
      " |    |-- availability: struct (nullable = true)\n",
      " |    |    |-- __src__: string (nullable = true)\n",
      " |    |    |-- available_to_borrow: boolean (nullable = true)\n",
      " |    |    |-- available_to_browse: boolean (nullable = true)\n",
      " |    |    |-- available_to_waitlist: boolean (nullable = true)\n",
      " |    |    |-- identifier: string (nullable = true)\n",
      " |    |    |-- is_browseable: boolean (nullable = true)\n",
      " |    |    |-- is_lendable: boolean (nullable = true)\n",
      " |    |    |-- is_previewable: boolean (nullable = true)\n",
      " |    |    |-- is_printdisabled: boolean (nullable = true)\n",
      " |    |    |-- is_readable: boolean (nullable = true)\n",
      " |    |    |-- is_restricted: boolean (nullable = true)\n",
      " |    |    |-- isbn: string (nullable = true)\n",
      " |    |    |-- last_loan_date: string (nullable = true)\n",
      " |    |    |-- last_waitlist_date: string (nullable = true)\n",
      " |    |    |-- num_waitlist: string (nullable = true)\n",
      " |    |    |-- oclc: string (nullable = true)\n",
      " |    |    |-- openlibrary_edition: string (nullable = true)\n",
      " |    |    |-- openlibrary_work: string (nullable = true)\n",
      " |    |    |-- status: string (nullable = true)\n",
      " |    |-- cover_edition_key: string (nullable = true)\n",
      " |    |-- cover_id: long (nullable = true)\n",
      " |    |-- edition_count: long (nullable = true)\n",
      " |    |-- first_publish_year: long (nullable = true)\n",
      " |    |-- has_fulltext: boolean (nullable = true)\n",
      " |    |-- ia: string (nullable = true)\n",
      " |    |-- ia_collection: array (nullable = true)\n",
      " |    |    |-- element: string (containsNull = true)\n",
      " |    |-- key: string (nullable = true)\n",
      " |    |-- lending_edition: string (nullable = true)\n",
      " |    |-- lending_identifier: string (nullable = true)\n",
      " |    |-- lendinglibrary: boolean (nullable = true)\n",
      " |    |-- printdisabled: boolean (nullable = true)\n",
      " |    |-- public_scan: boolean (nullable = true)\n",
      " |    |-- subject: array (nullable = true)\n",
      " |    |    |-- element: string (containsNull = true)\n",
      " |    |-- title: string (nullable = true)\n",
      " |-- __source_file_name: string (nullable = false)\n",
      "\n"
     ]
    }
   ],
   "source": [
    "works_explode.printSchema()"
   ]
  },
  {
   "cell_type": "markdown",
   "metadata": {},
   "source": [
    "#### Explode the `authors` field\n",
    "Using `works_explode` as the source, use another explode function to get all the authors into separate rows"
   ]
  },
  {
   "cell_type": "code",
   "execution_count": 59,
   "metadata": {},
   "outputs": [],
   "source": [
    "authors_explode = works_explode.selectExpr(\n",
    "    \"key as subject_key\",\n",
    "    \"name\",\n",
    "    \"subject_type\",\n",
    "    \"works.key as book_key\",\n",
    "    \"works.first_publish_year\",\n",
    "    \"works.title\",\n",
    "    \"explode(works.authors) as authors\",\n",
    "    \n",
    ")\n",
    "# second_explode.show(truncate=False)"
   ]
  },
  {
   "cell_type": "markdown",
   "metadata": {},
   "source": [
    "#### Flatten"
   ]
  },
  {
   "cell_type": "markdown",
   "metadata": {},
   "source": [
    "Flatten books data"
   ]
  },
  {
   "cell_type": "code",
   "execution_count": 60,
   "metadata": {
    "scrolled": true
   },
   "outputs": [],
   "source": [
    "works_flattened = works_explode.selectExpr(\n",
    "    \"key as subject_key\",\n",
    "    \"name as subject_name\",\n",
    "    \"subject_type\",\n",
    "    \"works.key as works_key\",\n",
    "    \"works.title\",\n",
    "    \"works.edition_count\",\n",
    "    \"works.cover_id\",\n",
    "    \"works.cover_edition_key\",\n",
    "    \"works.lendinglibrary\",\n",
    "    \"works.printdisabled\",\n",
    "    \"works.lending_edition\",\n",
    "    \"works.lending_identifier\",\n",
    "    \"works.first_publish_year\",\n",
    "    \"works.ia\",\n",
    "    \"works.public_scan\",\n",
    "    \"works.has_fulltext\",\n",
    "    \"now() as __processed_datetime\",\n",
    "    \"__source_file_name\"\n",
    ")"
   ]
  },
  {
   "cell_type": "markdown",
   "metadata": {},
   "source": [
    "Flatten authors data"
   ]
  },
  {
   "cell_type": "code",
   "execution_count": 61,
   "metadata": {},
   "outputs": [],
   "source": [
    "author_flattened = authors_explode.selectExpr(\n",
    "    \"subject_key\",\n",
    "    \"name\",\n",
    "    \"book_key\",\n",
    "    \"subject_type\",\n",
    "    \"authors.key as author_key\",\n",
    "    \"authors.name as author_name\"\n",
    ")\n",
    "# .limit(5).toPandas().head()"
   ]
  },
  {
   "cell_type": "markdown",
   "metadata": {},
   "source": [
    "### Save results"
   ]
  },
  {
   "cell_type": "code",
   "execution_count": 62,
   "metadata": {},
   "outputs": [
    {
     "name": "stderr",
     "output_type": "stream",
     "text": [
      "24/03/07 17:06:54 WARN ResolveWriteToStream: spark.sql.adaptive.enabled is not supported in streaming DataFrames/Datasets and will be disabled.\n"
     ]
    },
    {
     "data": {
      "text/plain": [
       "<pyspark.sql.streaming.query.StreamingQuery at 0xffff1e2661c0>"
      ]
     },
     "execution_count": 62,
     "metadata": {},
     "output_type": "execute_result"
    }
   ],
   "source": [
    "works_flattened.writeStream \\\n",
    "    .format(\"delta\") \\\n",
    "    .option(\"checkpointLocation\", \"./silver/books/checkpoint/delta/\") \\\n",
    "    .trigger(availableNow=True) \\\n",
    "    .start(\"./silver/books/data/delta/\")"
   ]
  },
  {
   "cell_type": "code",
   "execution_count": 63,
   "metadata": {},
   "outputs": [
    {
     "name": "stderr",
     "output_type": "stream",
     "text": [
      "24/03/07 17:07:02 WARN ResolveWriteToStream: spark.sql.adaptive.enabled is not supported in streaming DataFrames/Datasets and will be disabled.\n"
     ]
    },
    {
     "data": {
      "text/plain": [
       "<pyspark.sql.streaming.query.StreamingQuery at 0xffff1e246640>"
      ]
     },
     "execution_count": 63,
     "metadata": {},
     "output_type": "execute_result"
    },
    {
     "name": "stderr",
     "output_type": "stream",
     "text": [
      "                                                                                \r"
     ]
    }
   ],
   "source": [
    "author_flattened.writeStream \\\n",
    "    .format(\"delta\") \\\n",
    "    .option(\"checkpointLocation\", \"./silver/authors/checkpoint/delta\") \\\n",
    "    .start(\"./silver/authors/data/delta/\")"
   ]
  },
  {
   "cell_type": "markdown",
   "metadata": {},
   "source": [
    "### Print results"
   ]
  },
  {
   "cell_type": "code",
   "execution_count": 64,
   "metadata": {},
   "outputs": [
    {
     "data": {
      "text/html": [
       "<div>\n",
       "<style scoped>\n",
       "    .dataframe tbody tr th:only-of-type {\n",
       "        vertical-align: middle;\n",
       "    }\n",
       "\n",
       "    .dataframe tbody tr th {\n",
       "        vertical-align: top;\n",
       "    }\n",
       "\n",
       "    .dataframe thead th {\n",
       "        text-align: right;\n",
       "    }\n",
       "</style>\n",
       "<table border=\"1\" class=\"dataframe\">\n",
       "  <thead>\n",
       "    <tr style=\"text-align: right;\">\n",
       "      <th></th>\n",
       "      <th>subject_key</th>\n",
       "      <th>subject_name</th>\n",
       "      <th>subject_type</th>\n",
       "      <th>works_key</th>\n",
       "      <th>title</th>\n",
       "      <th>edition_count</th>\n",
       "      <th>cover_id</th>\n",
       "      <th>cover_edition_key</th>\n",
       "      <th>lendinglibrary</th>\n",
       "      <th>printdisabled</th>\n",
       "      <th>lending_edition</th>\n",
       "      <th>lending_identifier</th>\n",
       "      <th>first_publish_year</th>\n",
       "      <th>ia</th>\n",
       "      <th>public_scan</th>\n",
       "      <th>has_fulltext</th>\n",
       "      <th>__processed_datetime</th>\n",
       "      <th>__source_file_name</th>\n",
       "    </tr>\n",
       "  </thead>\n",
       "  <tbody>\n",
       "    <tr>\n",
       "      <th>0</th>\n",
       "      <td>/subjects/love</td>\n",
       "      <td>love</td>\n",
       "      <td>subject</td>\n",
       "      <td>/works/OL21177W</td>\n",
       "      <td>Wuthering Heights</td>\n",
       "      <td>2128</td>\n",
       "      <td>12818862</td>\n",
       "      <td>OL38586477M</td>\n",
       "      <td>False</td>\n",
       "      <td>True</td>\n",
       "      <td>OL50365053M</td>\n",
       "      <td>isbn_9798467132082</td>\n",
       "      <td>1847</td>\n",
       "      <td>isbn_9798467132082</td>\n",
       "      <td>True</td>\n",
       "      <td>True</td>\n",
       "      <td>2024-03-07 15:51:29.982545</td>\n",
       "      <td>file:///workspaces/drive_wealth_exercise/raw/s...</td>\n",
       "    </tr>\n",
       "    <tr>\n",
       "      <th>1</th>\n",
       "      <td>/subjects/love</td>\n",
       "      <td>love</td>\n",
       "      <td>subject</td>\n",
       "      <td>/works/OL468431W</td>\n",
       "      <td>The Great Gatsby</td>\n",
       "      <td>1176</td>\n",
       "      <td>10590366</td>\n",
       "      <td>OL22570129M</td>\n",
       "      <td>False</td>\n",
       "      <td>True</td>\n",
       "      <td>OL26441901M</td>\n",
       "      <td>in.ernet.dli.2015.184960</td>\n",
       "      <td>1920</td>\n",
       "      <td>in.ernet.dli.2015.184960</td>\n",
       "      <td>True</td>\n",
       "      <td>True</td>\n",
       "      <td>2024-03-07 15:51:29.982545</td>\n",
       "      <td>file:///workspaces/drive_wealth_exercise/raw/s...</td>\n",
       "    </tr>\n",
       "    <tr>\n",
       "      <th>2</th>\n",
       "      <td>/subjects/love</td>\n",
       "      <td>love</td>\n",
       "      <td>subject</td>\n",
       "      <td>/works/OL98501W</td>\n",
       "      <td>Ethan Frome</td>\n",
       "      <td>999</td>\n",
       "      <td>8303480</td>\n",
       "      <td>OL7215847M</td>\n",
       "      <td>False</td>\n",
       "      <td>True</td>\n",
       "      <td>OL32059444M</td>\n",
       "      <td>EdithWharton_SousLaNeige</td>\n",
       "      <td>1910</td>\n",
       "      <td>EdithWharton_SousLaNeige</td>\n",
       "      <td>True</td>\n",
       "      <td>True</td>\n",
       "      <td>2024-03-07 15:51:29.982545</td>\n",
       "      <td>file:///workspaces/drive_wealth_exercise/raw/s...</td>\n",
       "    </tr>\n",
       "    <tr>\n",
       "      <th>3</th>\n",
       "      <td>/subjects/love</td>\n",
       "      <td>love</td>\n",
       "      <td>subject</td>\n",
       "      <td>/works/OL362427W</td>\n",
       "      <td>Romeo and Juliet</td>\n",
       "      <td>972</td>\n",
       "      <td>8257991</td>\n",
       "      <td>OL26501367M</td>\n",
       "      <td>False</td>\n",
       "      <td>True</td>\n",
       "      <td>OL7228020M</td>\n",
       "      <td>2tragedyofromeoj00shakuoft</td>\n",
       "      <td>1597</td>\n",
       "      <td>2tragedyofromeoj00shakuoft</td>\n",
       "      <td>True</td>\n",
       "      <td>True</td>\n",
       "      <td>2024-03-07 15:51:29.982545</td>\n",
       "      <td>file:///workspaces/drive_wealth_exercise/raw/s...</td>\n",
       "    </tr>\n",
       "    <tr>\n",
       "      <th>4</th>\n",
       "      <td>/subjects/love</td>\n",
       "      <td>love</td>\n",
       "      <td>subject</td>\n",
       "      <td>/works/OL51831W</td>\n",
       "      <td>πολιτεία</td>\n",
       "      <td>792</td>\n",
       "      <td>14400145</td>\n",
       "      <td>OL24990264M</td>\n",
       "      <td>False</td>\n",
       "      <td>True</td>\n",
       "      <td>OL7004561M</td>\n",
       "      <td>republicofplat00plat</td>\n",
       "      <td>1554</td>\n",
       "      <td>republicofplat00plat</td>\n",
       "      <td>True</td>\n",
       "      <td>True</td>\n",
       "      <td>2024-03-07 15:51:29.982545</td>\n",
       "      <td>file:///workspaces/drive_wealth_exercise/raw/s...</td>\n",
       "    </tr>\n",
       "    <tr>\n",
       "      <th>5</th>\n",
       "      <td>/subjects/love</td>\n",
       "      <td>love</td>\n",
       "      <td>subject</td>\n",
       "      <td>/works/OL36287W</td>\n",
       "      <td>Le Comte de Monte Cristo</td>\n",
       "      <td>731</td>\n",
       "      <td>14566393</td>\n",
       "      <td>OL46867087M</td>\n",
       "      <td>False</td>\n",
       "      <td>True</td>\n",
       "      <td>OL43254660M</td>\n",
       "      <td>isbn_9781145233584</td>\n",
       "      <td>1830</td>\n",
       "      <td>isbn_9781145233584</td>\n",
       "      <td>True</td>\n",
       "      <td>True</td>\n",
       "      <td>2024-03-07 15:51:29.982545</td>\n",
       "      <td>file:///workspaces/drive_wealth_exercise/raw/s...</td>\n",
       "    </tr>\n",
       "    <tr>\n",
       "      <th>6</th>\n",
       "      <td>/subjects/love</td>\n",
       "      <td>love</td>\n",
       "      <td>subject</td>\n",
       "      <td>/works/OL362706W</td>\n",
       "      <td>Sonnets</td>\n",
       "      <td>579</td>\n",
       "      <td>8222090</td>\n",
       "      <td>OL6552577M</td>\n",
       "      <td>False</td>\n",
       "      <td>True</td>\n",
       "      <td>OL13719453M</td>\n",
       "      <td>sonnetsofwilliam0000shak_n0d0</td>\n",
       "      <td>1609</td>\n",
       "      <td>sonnetsofwilliam0000shak_n0d0</td>\n",
       "      <td>True</td>\n",
       "      <td>True</td>\n",
       "      <td>2024-03-07 15:51:29.982545</td>\n",
       "      <td>file:///workspaces/drive_wealth_exercise/raw/s...</td>\n",
       "    </tr>\n",
       "    <tr>\n",
       "      <th>7</th>\n",
       "      <td>/subjects/love</td>\n",
       "      <td>love</td>\n",
       "      <td>subject</td>\n",
       "      <td>/works/OL362698W</td>\n",
       "      <td>As You Like It</td>\n",
       "      <td>465</td>\n",
       "      <td>7338874</td>\n",
       "      <td>OL25667349M</td>\n",
       "      <td>False</td>\n",
       "      <td>True</td>\n",
       "      <td>OL32291448M</td>\n",
       "      <td>as_you_like_it_version_3_2012_librivox</td>\n",
       "      <td>1734</td>\n",
       "      <td>as_you_like_it_version_3_2012_librivox</td>\n",
       "      <td>True</td>\n",
       "      <td>True</td>\n",
       "      <td>2024-03-07 15:51:29.982545</td>\n",
       "      <td>file:///workspaces/drive_wealth_exercise/raw/s...</td>\n",
       "    </tr>\n",
       "    <tr>\n",
       "      <th>8</th>\n",
       "      <td>/subjects/love</td>\n",
       "      <td>love</td>\n",
       "      <td>subject</td>\n",
       "      <td>/works/OL27776452W</td>\n",
       "      <td>The Importance of Being Earnest</td>\n",
       "      <td>445</td>\n",
       "      <td>1260453</td>\n",
       "      <td>OL9694914M</td>\n",
       "      <td>False</td>\n",
       "      <td>True</td>\n",
       "      <td>OL24953263M</td>\n",
       "      <td>importanceofbein1895wild</td>\n",
       "      <td>1893</td>\n",
       "      <td>importanceofbein1895wild</td>\n",
       "      <td>True</td>\n",
       "      <td>True</td>\n",
       "      <td>2024-03-07 15:51:29.982545</td>\n",
       "      <td>file:///workspaces/drive_wealth_exercise/raw/s...</td>\n",
       "    </tr>\n",
       "    <tr>\n",
       "      <th>9</th>\n",
       "      <td>/subjects/love</td>\n",
       "      <td>love</td>\n",
       "      <td>subject</td>\n",
       "      <td>/works/OL267096W</td>\n",
       "      <td>Anna Karenina</td>\n",
       "      <td>391</td>\n",
       "      <td>2560652</td>\n",
       "      <td>OL10601812M</td>\n",
       "      <td>False</td>\n",
       "      <td>True</td>\n",
       "      <td>OL24197455M</td>\n",
       "      <td>annakarnin02tols</td>\n",
       "      <td>1876</td>\n",
       "      <td>annakarnin02tols</td>\n",
       "      <td>True</td>\n",
       "      <td>True</td>\n",
       "      <td>2024-03-07 15:51:29.982545</td>\n",
       "      <td>file:///workspaces/drive_wealth_exercise/raw/s...</td>\n",
       "    </tr>\n",
       "    <tr>\n",
       "      <th>10</th>\n",
       "      <td>/subjects/love</td>\n",
       "      <td>love</td>\n",
       "      <td>subject</td>\n",
       "      <td>/works/OL10263W</td>\n",
       "      <td>Le petit prince</td>\n",
       "      <td>358</td>\n",
       "      <td>10708272</td>\n",
       "      <td>OL7366018M</td>\n",
       "      <td>False</td>\n",
       "      <td>True</td>\n",
       "      <td>OL22007893M</td>\n",
       "      <td>elprinciito0000sain</td>\n",
       "      <td>1943</td>\n",
       "      <td>elprinciito0000sain</td>\n",
       "      <td>False</td>\n",
       "      <td>True</td>\n",
       "      <td>2024-03-07 15:51:29.982545</td>\n",
       "      <td>file:///workspaces/drive_wealth_exercise/raw/s...</td>\n",
       "    </tr>\n",
       "    <tr>\n",
       "      <th>11</th>\n",
       "      <td>/subjects/love</td>\n",
       "      <td>love</td>\n",
       "      <td>subject</td>\n",
       "      <td>/works/OL51815W</td>\n",
       "      <td>Συμπόσιον</td>\n",
       "      <td>350</td>\n",
       "      <td>14398918</td>\n",
       "      <td>OL49220392M</td>\n",
       "      <td>False</td>\n",
       "      <td>True</td>\n",
       "      <td>OL48596545M</td>\n",
       "      <td>uvrescompltes42plat</td>\n",
       "      <td>1559</td>\n",
       "      <td>uvrescompltes42plat</td>\n",
       "      <td>True</td>\n",
       "      <td>True</td>\n",
       "      <td>2024-03-07 15:51:29.982545</td>\n",
       "      <td>file:///workspaces/drive_wealth_exercise/raw/s...</td>\n",
       "    </tr>\n",
       "  </tbody>\n",
       "</table>\n",
       "</div>"
      ],
      "text/plain": [
       "       subject_key subject_name subject_type           works_key  \\\n",
       "0   /subjects/love         love      subject     /works/OL21177W   \n",
       "1   /subjects/love         love      subject    /works/OL468431W   \n",
       "2   /subjects/love         love      subject     /works/OL98501W   \n",
       "3   /subjects/love         love      subject    /works/OL362427W   \n",
       "4   /subjects/love         love      subject     /works/OL51831W   \n",
       "5   /subjects/love         love      subject     /works/OL36287W   \n",
       "6   /subjects/love         love      subject    /works/OL362706W   \n",
       "7   /subjects/love         love      subject    /works/OL362698W   \n",
       "8   /subjects/love         love      subject  /works/OL27776452W   \n",
       "9   /subjects/love         love      subject    /works/OL267096W   \n",
       "10  /subjects/love         love      subject     /works/OL10263W   \n",
       "11  /subjects/love         love      subject     /works/OL51815W   \n",
       "\n",
       "                              title  edition_count  cover_id  \\\n",
       "0                 Wuthering Heights           2128  12818862   \n",
       "1                  The Great Gatsby           1176  10590366   \n",
       "2                       Ethan Frome            999   8303480   \n",
       "3                  Romeo and Juliet            972   8257991   \n",
       "4                          πολιτεία            792  14400145   \n",
       "5          Le Comte de Monte Cristo            731  14566393   \n",
       "6                           Sonnets            579   8222090   \n",
       "7                    As You Like It            465   7338874   \n",
       "8   The Importance of Being Earnest            445   1260453   \n",
       "9                     Anna Karenina            391   2560652   \n",
       "10                  Le petit prince            358  10708272   \n",
       "11                        Συμπόσιον            350  14398918   \n",
       "\n",
       "   cover_edition_key  lendinglibrary  printdisabled lending_edition  \\\n",
       "0        OL38586477M           False           True     OL50365053M   \n",
       "1        OL22570129M           False           True     OL26441901M   \n",
       "2         OL7215847M           False           True     OL32059444M   \n",
       "3        OL26501367M           False           True      OL7228020M   \n",
       "4        OL24990264M           False           True      OL7004561M   \n",
       "5        OL46867087M           False           True     OL43254660M   \n",
       "6         OL6552577M           False           True     OL13719453M   \n",
       "7        OL25667349M           False           True     OL32291448M   \n",
       "8         OL9694914M           False           True     OL24953263M   \n",
       "9        OL10601812M           False           True     OL24197455M   \n",
       "10        OL7366018M           False           True     OL22007893M   \n",
       "11       OL49220392M           False           True     OL48596545M   \n",
       "\n",
       "                        lending_identifier  first_publish_year  \\\n",
       "0                       isbn_9798467132082                1847   \n",
       "1                 in.ernet.dli.2015.184960                1920   \n",
       "2                 EdithWharton_SousLaNeige                1910   \n",
       "3               2tragedyofromeoj00shakuoft                1597   \n",
       "4                     republicofplat00plat                1554   \n",
       "5                       isbn_9781145233584                1830   \n",
       "6            sonnetsofwilliam0000shak_n0d0                1609   \n",
       "7   as_you_like_it_version_3_2012_librivox                1734   \n",
       "8                 importanceofbein1895wild                1893   \n",
       "9                         annakarnin02tols                1876   \n",
       "10                     elprinciito0000sain                1943   \n",
       "11                     uvrescompltes42plat                1559   \n",
       "\n",
       "                                        ia  public_scan  has_fulltext  \\\n",
       "0                       isbn_9798467132082         True          True   \n",
       "1                 in.ernet.dli.2015.184960         True          True   \n",
       "2                 EdithWharton_SousLaNeige         True          True   \n",
       "3               2tragedyofromeoj00shakuoft         True          True   \n",
       "4                     republicofplat00plat         True          True   \n",
       "5                       isbn_9781145233584         True          True   \n",
       "6            sonnetsofwilliam0000shak_n0d0         True          True   \n",
       "7   as_you_like_it_version_3_2012_librivox         True          True   \n",
       "8                 importanceofbein1895wild         True          True   \n",
       "9                         annakarnin02tols         True          True   \n",
       "10                     elprinciito0000sain        False          True   \n",
       "11                     uvrescompltes42plat         True          True   \n",
       "\n",
       "         __processed_datetime  \\\n",
       "0  2024-03-07 15:51:29.982545   \n",
       "1  2024-03-07 15:51:29.982545   \n",
       "2  2024-03-07 15:51:29.982545   \n",
       "3  2024-03-07 15:51:29.982545   \n",
       "4  2024-03-07 15:51:29.982545   \n",
       "5  2024-03-07 15:51:29.982545   \n",
       "6  2024-03-07 15:51:29.982545   \n",
       "7  2024-03-07 15:51:29.982545   \n",
       "8  2024-03-07 15:51:29.982545   \n",
       "9  2024-03-07 15:51:29.982545   \n",
       "10 2024-03-07 15:51:29.982545   \n",
       "11 2024-03-07 15:51:29.982545   \n",
       "\n",
       "                                   __source_file_name  \n",
       "0   file:///workspaces/drive_wealth_exercise/raw/s...  \n",
       "1   file:///workspaces/drive_wealth_exercise/raw/s...  \n",
       "2   file:///workspaces/drive_wealth_exercise/raw/s...  \n",
       "3   file:///workspaces/drive_wealth_exercise/raw/s...  \n",
       "4   file:///workspaces/drive_wealth_exercise/raw/s...  \n",
       "5   file:///workspaces/drive_wealth_exercise/raw/s...  \n",
       "6   file:///workspaces/drive_wealth_exercise/raw/s...  \n",
       "7   file:///workspaces/drive_wealth_exercise/raw/s...  \n",
       "8   file:///workspaces/drive_wealth_exercise/raw/s...  \n",
       "9   file:///workspaces/drive_wealth_exercise/raw/s...  \n",
       "10  file:///workspaces/drive_wealth_exercise/raw/s...  \n",
       "11  file:///workspaces/drive_wealth_exercise/raw/s...  "
      ]
     },
     "execution_count": 64,
     "metadata": {},
     "output_type": "execute_result"
    }
   ],
   "source": [
    "spark.read.format(\"delta\").load(\"silver/books/data/delta\").toPandas()"
   ]
  },
  {
   "cell_type": "code",
   "execution_count": 65,
   "metadata": {},
   "outputs": [
    {
     "name": "stderr",
     "output_type": "stream",
     "text": [
      "                                                                                \r"
     ]
    },
    {
     "data": {
      "text/html": [
       "<div>\n",
       "<style scoped>\n",
       "    .dataframe tbody tr th:only-of-type {\n",
       "        vertical-align: middle;\n",
       "    }\n",
       "\n",
       "    .dataframe tbody tr th {\n",
       "        vertical-align: top;\n",
       "    }\n",
       "\n",
       "    .dataframe thead th {\n",
       "        text-align: right;\n",
       "    }\n",
       "</style>\n",
       "<table border=\"1\" class=\"dataframe\">\n",
       "  <thead>\n",
       "    <tr style=\"text-align: right;\">\n",
       "      <th></th>\n",
       "      <th>subject_key</th>\n",
       "      <th>name</th>\n",
       "      <th>book_key</th>\n",
       "      <th>subject_type</th>\n",
       "      <th>author_key</th>\n",
       "      <th>author_name</th>\n",
       "    </tr>\n",
       "  </thead>\n",
       "  <tbody>\n",
       "    <tr>\n",
       "      <th>0</th>\n",
       "      <td>/subjects/love</td>\n",
       "      <td>love</td>\n",
       "      <td>/works/OL21177W</td>\n",
       "      <td>subject</td>\n",
       "      <td>/authors/OL24529A</td>\n",
       "      <td>Emily Brontë</td>\n",
       "    </tr>\n",
       "    <tr>\n",
       "      <th>1</th>\n",
       "      <td>/subjects/love</td>\n",
       "      <td>love</td>\n",
       "      <td>/works/OL468431W</td>\n",
       "      <td>subject</td>\n",
       "      <td>/authors/OL27349A</td>\n",
       "      <td>F. Scott Fitzgerald</td>\n",
       "    </tr>\n",
       "    <tr>\n",
       "      <th>2</th>\n",
       "      <td>/subjects/love</td>\n",
       "      <td>love</td>\n",
       "      <td>/works/OL98501W</td>\n",
       "      <td>subject</td>\n",
       "      <td>/authors/OL20188A</td>\n",
       "      <td>Edith Wharton</td>\n",
       "    </tr>\n",
       "    <tr>\n",
       "      <th>3</th>\n",
       "      <td>/subjects/love</td>\n",
       "      <td>love</td>\n",
       "      <td>/works/OL362427W</td>\n",
       "      <td>subject</td>\n",
       "      <td>/authors/OL9388A</td>\n",
       "      <td>William Shakespeare</td>\n",
       "    </tr>\n",
       "    <tr>\n",
       "      <th>4</th>\n",
       "      <td>/subjects/love</td>\n",
       "      <td>love</td>\n",
       "      <td>/works/OL51831W</td>\n",
       "      <td>subject</td>\n",
       "      <td>/authors/OL12823A</td>\n",
       "      <td>Πλάτων</td>\n",
       "    </tr>\n",
       "    <tr>\n",
       "      <th>5</th>\n",
       "      <td>/subjects/love</td>\n",
       "      <td>love</td>\n",
       "      <td>/works/OL36287W</td>\n",
       "      <td>subject</td>\n",
       "      <td>/authors/OL18236A</td>\n",
       "      <td>Alexandre Dumas</td>\n",
       "    </tr>\n",
       "    <tr>\n",
       "      <th>6</th>\n",
       "      <td>/subjects/love</td>\n",
       "      <td>love</td>\n",
       "      <td>/works/OL362706W</td>\n",
       "      <td>subject</td>\n",
       "      <td>/authors/OL9388A</td>\n",
       "      <td>William Shakespeare</td>\n",
       "    </tr>\n",
       "    <tr>\n",
       "      <th>7</th>\n",
       "      <td>/subjects/love</td>\n",
       "      <td>love</td>\n",
       "      <td>/works/OL362698W</td>\n",
       "      <td>subject</td>\n",
       "      <td>/authors/OL9388A</td>\n",
       "      <td>William Shakespeare</td>\n",
       "    </tr>\n",
       "    <tr>\n",
       "      <th>8</th>\n",
       "      <td>/subjects/love</td>\n",
       "      <td>love</td>\n",
       "      <td>/works/OL27776452W</td>\n",
       "      <td>subject</td>\n",
       "      <td>/authors/OL20646A</td>\n",
       "      <td>Oscar Wilde</td>\n",
       "    </tr>\n",
       "    <tr>\n",
       "      <th>9</th>\n",
       "      <td>/subjects/love</td>\n",
       "      <td>love</td>\n",
       "      <td>/works/OL267096W</td>\n",
       "      <td>subject</td>\n",
       "      <td>/authors/OL26783A</td>\n",
       "      <td>Lev Nikolaevič Tolstoy</td>\n",
       "    </tr>\n",
       "    <tr>\n",
       "      <th>10</th>\n",
       "      <td>/subjects/love</td>\n",
       "      <td>love</td>\n",
       "      <td>/works/OL10263W</td>\n",
       "      <td>subject</td>\n",
       "      <td>/authors/OL31901A</td>\n",
       "      <td>Antoine de Saint-Exupéry</td>\n",
       "    </tr>\n",
       "    <tr>\n",
       "      <th>11</th>\n",
       "      <td>/subjects/love</td>\n",
       "      <td>love</td>\n",
       "      <td>/works/OL51815W</td>\n",
       "      <td>subject</td>\n",
       "      <td>/authors/OL12823A</td>\n",
       "      <td>Πλάτων</td>\n",
       "    </tr>\n",
       "  </tbody>\n",
       "</table>\n",
       "</div>"
      ],
      "text/plain": [
       "       subject_key  name            book_key subject_type         author_key  \\\n",
       "0   /subjects/love  love     /works/OL21177W      subject  /authors/OL24529A   \n",
       "1   /subjects/love  love    /works/OL468431W      subject  /authors/OL27349A   \n",
       "2   /subjects/love  love     /works/OL98501W      subject  /authors/OL20188A   \n",
       "3   /subjects/love  love    /works/OL362427W      subject   /authors/OL9388A   \n",
       "4   /subjects/love  love     /works/OL51831W      subject  /authors/OL12823A   \n",
       "5   /subjects/love  love     /works/OL36287W      subject  /authors/OL18236A   \n",
       "6   /subjects/love  love    /works/OL362706W      subject   /authors/OL9388A   \n",
       "7   /subjects/love  love    /works/OL362698W      subject   /authors/OL9388A   \n",
       "8   /subjects/love  love  /works/OL27776452W      subject  /authors/OL20646A   \n",
       "9   /subjects/love  love    /works/OL267096W      subject  /authors/OL26783A   \n",
       "10  /subjects/love  love     /works/OL10263W      subject  /authors/OL31901A   \n",
       "11  /subjects/love  love     /works/OL51815W      subject  /authors/OL12823A   \n",
       "\n",
       "                 author_name  \n",
       "0              Emily Brontë  \n",
       "1        F. Scott Fitzgerald  \n",
       "2              Edith Wharton  \n",
       "3        William Shakespeare  \n",
       "4                     Πλάτων  \n",
       "5            Alexandre Dumas  \n",
       "6        William Shakespeare  \n",
       "7        William Shakespeare  \n",
       "8                Oscar Wilde  \n",
       "9     Lev Nikolaevič Tolstoy  \n",
       "10  Antoine de Saint-Exupéry  \n",
       "11                    Πλάτων  "
      ]
     },
     "execution_count": 65,
     "metadata": {},
     "output_type": "execute_result"
    }
   ],
   "source": [
    "spark.read.format(\"delta\").load(\"silver/authors/data/delta\").toPandas()"
   ]
  },
  {
   "cell_type": "markdown",
   "metadata": {},
   "source": [
    "## Data Quality"
   ]
  },
  {
   "cell_type": "code",
   "execution_count": 66,
   "metadata": {},
   "outputs": [],
   "source": [
    "context = gx.get_context()"
   ]
  },
  {
   "cell_type": "code",
   "execution_count": 67,
   "metadata": {},
   "outputs": [],
   "source": [
    "def get_datasource(datasource_name, base_directory):\n",
    "    datasource = context.sources.add_or_update_spark_filesystem(\n",
    "        name=datasource_name,\n",
    "        base_directory=base_directory\n",
    "    )"
   ]
  },
  {
   "cell_type": "markdown",
   "metadata": {},
   "source": [
    "### Test Source files"
   ]
  },
  {
   "cell_type": "code",
   "execution_count": 108,
   "metadata": {},
   "outputs": [
    {
     "name": "stderr",
     "output_type": "stream",
     "text": [
      "24/03/07 17:42:07 WARN CacheManager: Asked to cache already cached data.        \n"
     ]
    },
    {
     "data": {
      "application/vnd.jupyter.widget-view+json": {
       "model_id": "7e9e4169919347cb85155c1ca43fc6a9",
       "version_major": 2,
       "version_minor": 0
      },
      "text/plain": [
       "Calculating Metrics:   0%|          | 0/1 [00:00<?, ?it/s]"
      ]
     },
     "metadata": {},
     "output_type": "display_data"
    },
    {
     "data": {
      "text/html": [
       "<div>\n",
       "<style scoped>\n",
       "    .dataframe tbody tr th:only-of-type {\n",
       "        vertical-align: middle;\n",
       "    }\n",
       "\n",
       "    .dataframe tbody tr th {\n",
       "        vertical-align: top;\n",
       "    }\n",
       "\n",
       "    .dataframe thead th {\n",
       "        text-align: right;\n",
       "    }\n",
       "</style>\n",
       "<table border=\"1\" class=\"dataframe\">\n",
       "  <thead>\n",
       "    <tr style=\"text-align: right;\">\n",
       "      <th></th>\n",
       "      <th>key</th>\n",
       "      <th>name</th>\n",
       "      <th>subject_type</th>\n",
       "      <th>work_count</th>\n",
       "      <th>works</th>\n",
       "    </tr>\n",
       "  </thead>\n",
       "  <tbody>\n",
       "    <tr>\n",
       "      <th>0</th>\n",
       "      <td>/subjects/love</td>\n",
       "      <td>love</td>\n",
       "      <td>subject</td>\n",
       "      <td>16503</td>\n",
       "      <td>[([Row(key='/authors/OL24529A', name='Emily Br...</td>\n",
       "    </tr>\n",
       "  </tbody>\n",
       "</table>\n",
       "</div>"
      ],
      "text/plain": [
       "              key  name subject_type  work_count  \\\n",
       "0  /subjects/love  love      subject       16503   \n",
       "\n",
       "                                               works  \n",
       "0  [([Row(key='/authors/OL24529A', name='Emily Br...  "
      ]
     },
     "execution_count": 108,
     "metadata": {},
     "output_type": "execute_result"
    }
   ],
   "source": [
    "datasource_name = \"library_api\"\n",
    "data_asset_name = \"library_raw_data_asset\"\n",
    "expecation_suite_name = \"library__expectation_suite\"\n",
    "datasource = context.sources.add_or_update_spark_filesystem(\n",
    "    name=datasource_name, base_directory=\"raw/\"\n",
    ")\n",
    "\n",
    "datasource.add_directory_json_asset(\n",
    "    name=data_asset_name,\n",
    "    data_directory=\"./\"\n",
    ")\n",
    "\n",
    "context.add_or_update_expectation_suite(expecation_suite_name)\n",
    "assert expecation_suite_name in context.list_expectation_suite_names()\n",
    "\n",
    "my_asset = context.get_datasource(datasource_name).get_asset(data_asset_name)\n",
    "my_batch_request = my_asset.build_batch_request()\n",
    "\n",
    "validator = context.get_validator(\n",
    "    batch_request=my_batch_request,\n",
    "    expectation_suite_name=expecation_suite_name\n",
    ")\n",
    "validator.head()"
   ]
  },
  {
   "cell_type": "code",
   "execution_count": 109,
   "metadata": {},
   "outputs": [
    {
     "name": "stderr",
     "output_type": "stream",
     "text": [
      "24/03/07 17:42:12 WARN CacheManager: Asked to cache already cached data.\n"
     ]
    },
    {
     "data": {
      "application/vnd.jupyter.widget-view+json": {
       "model_id": "850c47f48f6948e6abdbfad32f4967f3",
       "version_major": 2,
       "version_minor": 0
      },
      "text/plain": [
       "Calculating Metrics: 0it [00:00, ?it/s]"
      ]
     },
     "metadata": {},
     "output_type": "display_data"
    },
    {
     "name": "stdout",
     "output_type": "stream",
     "text": [
      "all validation checks passed\n"
     ]
    }
   ],
   "source": [
    "checkpoint = context.add_or_update_checkpoint(\n",
    "    name=\"library_raw_checkpoint\",\n",
    "    validations=[\n",
    "        {\n",
    "            \"batch_request\": my_batch_request,\n",
    "            \"expectation_suite_name\": expecation_suite_name,\n",
    "        },\n",
    "    ],\n",
    ")\n",
    "results = checkpoint.run()\n",
    "if results.success:\n",
    "    print(\"all validation checks passed\")\n",
    "else:\n",
    "    print(\"something went wrong\")\n",
    "    print(results)\n",
    "    raise Exception"
   ]
  },
  {
   "cell_type": "markdown",
   "metadata": {},
   "source": [
    "### Test books"
   ]
  },
  {
   "cell_type": "code",
   "execution_count": 110,
   "metadata": {},
   "outputs": [
    {
     "name": "stderr",
     "output_type": "stream",
     "text": [
      "24/03/07 17:42:13 WARN CacheManager: Asked to cache already cached data.\n"
     ]
    },
    {
     "data": {
      "application/vnd.jupyter.widget-view+json": {
       "model_id": "10e4c8b22b5a4c3cb97196b4c44a443a",
       "version_major": 2,
       "version_minor": 0
      },
      "text/plain": [
       "Calculating Metrics:   0%|          | 0/1 [00:00<?, ?it/s]"
      ]
     },
     "metadata": {},
     "output_type": "display_data"
    },
    {
     "data": {
      "text/html": [
       "<div>\n",
       "<style scoped>\n",
       "    .dataframe tbody tr th:only-of-type {\n",
       "        vertical-align: middle;\n",
       "    }\n",
       "\n",
       "    .dataframe tbody tr th {\n",
       "        vertical-align: top;\n",
       "    }\n",
       "\n",
       "    .dataframe thead th {\n",
       "        text-align: right;\n",
       "    }\n",
       "</style>\n",
       "<table border=\"1\" class=\"dataframe\">\n",
       "  <thead>\n",
       "    <tr style=\"text-align: right;\">\n",
       "      <th></th>\n",
       "      <th>subject_key</th>\n",
       "      <th>subject_name</th>\n",
       "      <th>subject_type</th>\n",
       "      <th>works_key</th>\n",
       "      <th>title</th>\n",
       "      <th>edition_count</th>\n",
       "      <th>cover_id</th>\n",
       "      <th>cover_edition_key</th>\n",
       "      <th>lendinglibrary</th>\n",
       "      <th>printdisabled</th>\n",
       "      <th>lending_edition</th>\n",
       "      <th>lending_identifier</th>\n",
       "      <th>first_publish_year</th>\n",
       "      <th>ia</th>\n",
       "      <th>public_scan</th>\n",
       "      <th>has_fulltext</th>\n",
       "      <th>__processed_datetime</th>\n",
       "      <th>__source_file_name</th>\n",
       "    </tr>\n",
       "  </thead>\n",
       "  <tbody>\n",
       "    <tr>\n",
       "      <th>0</th>\n",
       "      <td>/subjects/love</td>\n",
       "      <td>love</td>\n",
       "      <td>subject</td>\n",
       "      <td>/works/OL21177W</td>\n",
       "      <td>Wuthering Heights</td>\n",
       "      <td>2128</td>\n",
       "      <td>12818862</td>\n",
       "      <td>OL38586477M</td>\n",
       "      <td>False</td>\n",
       "      <td>True</td>\n",
       "      <td>OL50365053M</td>\n",
       "      <td>isbn_9798467132082</td>\n",
       "      <td>1847</td>\n",
       "      <td>isbn_9798467132082</td>\n",
       "      <td>True</td>\n",
       "      <td>True</td>\n",
       "      <td>2024-03-07 15:51:29.982545</td>\n",
       "      <td>file:///workspaces/drive_wealth_exercise/raw/s...</td>\n",
       "    </tr>\n",
       "    <tr>\n",
       "      <th>1</th>\n",
       "      <td>/subjects/love</td>\n",
       "      <td>love</td>\n",
       "      <td>subject</td>\n",
       "      <td>/works/OL468431W</td>\n",
       "      <td>The Great Gatsby</td>\n",
       "      <td>1176</td>\n",
       "      <td>10590366</td>\n",
       "      <td>OL22570129M</td>\n",
       "      <td>False</td>\n",
       "      <td>True</td>\n",
       "      <td>OL26441901M</td>\n",
       "      <td>in.ernet.dli.2015.184960</td>\n",
       "      <td>1920</td>\n",
       "      <td>in.ernet.dli.2015.184960</td>\n",
       "      <td>True</td>\n",
       "      <td>True</td>\n",
       "      <td>2024-03-07 15:51:29.982545</td>\n",
       "      <td>file:///workspaces/drive_wealth_exercise/raw/s...</td>\n",
       "    </tr>\n",
       "    <tr>\n",
       "      <th>2</th>\n",
       "      <td>/subjects/love</td>\n",
       "      <td>love</td>\n",
       "      <td>subject</td>\n",
       "      <td>/works/OL98501W</td>\n",
       "      <td>Ethan Frome</td>\n",
       "      <td>999</td>\n",
       "      <td>8303480</td>\n",
       "      <td>OL7215847M</td>\n",
       "      <td>False</td>\n",
       "      <td>True</td>\n",
       "      <td>OL32059444M</td>\n",
       "      <td>EdithWharton_SousLaNeige</td>\n",
       "      <td>1910</td>\n",
       "      <td>EdithWharton_SousLaNeige</td>\n",
       "      <td>True</td>\n",
       "      <td>True</td>\n",
       "      <td>2024-03-07 15:51:29.982545</td>\n",
       "      <td>file:///workspaces/drive_wealth_exercise/raw/s...</td>\n",
       "    </tr>\n",
       "    <tr>\n",
       "      <th>3</th>\n",
       "      <td>/subjects/love</td>\n",
       "      <td>love</td>\n",
       "      <td>subject</td>\n",
       "      <td>/works/OL362427W</td>\n",
       "      <td>Romeo and Juliet</td>\n",
       "      <td>972</td>\n",
       "      <td>8257991</td>\n",
       "      <td>OL26501367M</td>\n",
       "      <td>False</td>\n",
       "      <td>True</td>\n",
       "      <td>OL7228020M</td>\n",
       "      <td>2tragedyofromeoj00shakuoft</td>\n",
       "      <td>1597</td>\n",
       "      <td>2tragedyofromeoj00shakuoft</td>\n",
       "      <td>True</td>\n",
       "      <td>True</td>\n",
       "      <td>2024-03-07 15:51:29.982545</td>\n",
       "      <td>file:///workspaces/drive_wealth_exercise/raw/s...</td>\n",
       "    </tr>\n",
       "    <tr>\n",
       "      <th>4</th>\n",
       "      <td>/subjects/love</td>\n",
       "      <td>love</td>\n",
       "      <td>subject</td>\n",
       "      <td>/works/OL51831W</td>\n",
       "      <td>πολιτεία</td>\n",
       "      <td>792</td>\n",
       "      <td>14400145</td>\n",
       "      <td>OL24990264M</td>\n",
       "      <td>False</td>\n",
       "      <td>True</td>\n",
       "      <td>OL7004561M</td>\n",
       "      <td>republicofplat00plat</td>\n",
       "      <td>1554</td>\n",
       "      <td>republicofplat00plat</td>\n",
       "      <td>True</td>\n",
       "      <td>True</td>\n",
       "      <td>2024-03-07 15:51:29.982545</td>\n",
       "      <td>file:///workspaces/drive_wealth_exercise/raw/s...</td>\n",
       "    </tr>\n",
       "  </tbody>\n",
       "</table>\n",
       "</div>"
      ],
      "text/plain": [
       "      subject_key subject_name subject_type         works_key  \\\n",
       "0  /subjects/love         love      subject   /works/OL21177W   \n",
       "1  /subjects/love         love      subject  /works/OL468431W   \n",
       "2  /subjects/love         love      subject   /works/OL98501W   \n",
       "3  /subjects/love         love      subject  /works/OL362427W   \n",
       "4  /subjects/love         love      subject   /works/OL51831W   \n",
       "\n",
       "               title  edition_count  cover_id cover_edition_key  \\\n",
       "0  Wuthering Heights           2128  12818862       OL38586477M   \n",
       "1   The Great Gatsby           1176  10590366       OL22570129M   \n",
       "2        Ethan Frome            999   8303480        OL7215847M   \n",
       "3   Romeo and Juliet            972   8257991       OL26501367M   \n",
       "4           πολιτεία            792  14400145       OL24990264M   \n",
       "\n",
       "   lendinglibrary  printdisabled lending_edition          lending_identifier  \\\n",
       "0           False           True     OL50365053M          isbn_9798467132082   \n",
       "1           False           True     OL26441901M    in.ernet.dli.2015.184960   \n",
       "2           False           True     OL32059444M    EdithWharton_SousLaNeige   \n",
       "3           False           True      OL7228020M  2tragedyofromeoj00shakuoft   \n",
       "4           False           True      OL7004561M        republicofplat00plat   \n",
       "\n",
       "   first_publish_year                          ia  public_scan  has_fulltext  \\\n",
       "0                1847          isbn_9798467132082         True          True   \n",
       "1                1920    in.ernet.dli.2015.184960         True          True   \n",
       "2                1910    EdithWharton_SousLaNeige         True          True   \n",
       "3                1597  2tragedyofromeoj00shakuoft         True          True   \n",
       "4                1554        republicofplat00plat         True          True   \n",
       "\n",
       "        __processed_datetime  \\\n",
       "0 2024-03-07 15:51:29.982545   \n",
       "1 2024-03-07 15:51:29.982545   \n",
       "2 2024-03-07 15:51:29.982545   \n",
       "3 2024-03-07 15:51:29.982545   \n",
       "4 2024-03-07 15:51:29.982545   \n",
       "\n",
       "                                  __source_file_name  \n",
       "0  file:///workspaces/drive_wealth_exercise/raw/s...  \n",
       "1  file:///workspaces/drive_wealth_exercise/raw/s...  \n",
       "2  file:///workspaces/drive_wealth_exercise/raw/s...  \n",
       "3  file:///workspaces/drive_wealth_exercise/raw/s...  \n",
       "4  file:///workspaces/drive_wealth_exercise/raw/s...  "
      ]
     },
     "execution_count": 110,
     "metadata": {},
     "output_type": "execute_result"
    }
   ],
   "source": [
    "datasource_name = \"library_api__silver\"\n",
    "data_asset_name = \"books_silver_asset\"\n",
    "expecation_suite_name = \"library__books__expectation_suite\"\n",
    "datasource = context.sources.add_or_update_spark_filesystem(\n",
    "    name=datasource_name, base_directory=\"silver/\"\n",
    ")\n",
    "\n",
    "datasource.add_directory_delta_asset(\n",
    "    name=data_asset_name,\n",
    "    data_directory=\"books/data/delta\"\n",
    ")\n",
    "\n",
    "context.add_or_update_expectation_suite(expecation_suite_name)\n",
    "assert expecation_suite_name in context.list_expectation_suite_names()\n",
    "\n",
    "my_asset = context.get_datasource(datasource_name).get_asset(data_asset_name)\n",
    "my_batch_request = my_asset.build_batch_request()\n",
    "\n",
    "validator = context.get_validator(\n",
    "    batch_request=my_batch_request,\n",
    "    expectation_suite_name=expecation_suite_name,\n",
    ")\n",
    "validator.head()"
   ]
  },
  {
   "cell_type": "code",
   "execution_count": 111,
   "metadata": {},
   "outputs": [
    {
     "name": "stderr",
     "output_type": "stream",
     "text": [
      "24/03/07 17:42:14 WARN CacheManager: Asked to cache already cached data.\n"
     ]
    },
    {
     "data": {
      "application/vnd.jupyter.widget-view+json": {
       "model_id": "9ebe5b225885495590f57c0a3989124d",
       "version_major": 2,
       "version_minor": 0
      },
      "text/plain": [
       "Calculating Metrics: 0it [00:00, ?it/s]"
      ]
     },
     "metadata": {},
     "output_type": "display_data"
    },
    {
     "name": "stdout",
     "output_type": "stream",
     "text": [
      "all validation checks passed\n"
     ]
    }
   ],
   "source": [
    "checkpoint = context.add_or_update_checkpoint(\n",
    "    name=\"library__silver__books__checkpoint\",\n",
    "    validations=[\n",
    "        {\n",
    "            \"batch_request\": my_batch_request,\n",
    "            \"expectation_suite_name\": expecation_suite_name,\n",
    "        },\n",
    "    ],\n",
    ")\n",
    "results = checkpoint.run()\n",
    "if results.success:\n",
    "    print(\"all validation checks passed\")\n",
    "else:\n",
    "    print(\"something went wrong\")\n",
    "    print(results)\n",
    "    raise Exception"
   ]
  },
  {
   "cell_type": "markdown",
   "metadata": {},
   "source": [
    "### Test authors"
   ]
  },
  {
   "cell_type": "code",
   "execution_count": 112,
   "metadata": {},
   "outputs": [
    {
     "name": "stderr",
     "output_type": "stream",
     "text": [
      "24/03/07 17:42:28 WARN CacheManager: Asked to cache already cached data.\n"
     ]
    },
    {
     "data": {
      "application/vnd.jupyter.widget-view+json": {
       "model_id": "b22caf6e1f2540c8bee3141a8351ac63",
       "version_major": 2,
       "version_minor": 0
      },
      "text/plain": [
       "Calculating Metrics:   0%|          | 0/1 [00:00<?, ?it/s]"
      ]
     },
     "metadata": {},
     "output_type": "display_data"
    },
    {
     "name": "stderr",
     "output_type": "stream",
     "text": [
      "                                                                                \r"
     ]
    },
    {
     "data": {
      "text/html": [
       "<div>\n",
       "<style scoped>\n",
       "    .dataframe tbody tr th:only-of-type {\n",
       "        vertical-align: middle;\n",
       "    }\n",
       "\n",
       "    .dataframe tbody tr th {\n",
       "        vertical-align: top;\n",
       "    }\n",
       "\n",
       "    .dataframe thead th {\n",
       "        text-align: right;\n",
       "    }\n",
       "</style>\n",
       "<table border=\"1\" class=\"dataframe\">\n",
       "  <thead>\n",
       "    <tr style=\"text-align: right;\">\n",
       "      <th></th>\n",
       "      <th>subject_key</th>\n",
       "      <th>name</th>\n",
       "      <th>book_key</th>\n",
       "      <th>subject_type</th>\n",
       "      <th>author_key</th>\n",
       "      <th>author_name</th>\n",
       "    </tr>\n",
       "  </thead>\n",
       "  <tbody>\n",
       "    <tr>\n",
       "      <th>0</th>\n",
       "      <td>/subjects/love</td>\n",
       "      <td>love</td>\n",
       "      <td>/works/OL21177W</td>\n",
       "      <td>subject</td>\n",
       "      <td>/authors/OL24529A</td>\n",
       "      <td>Emily Brontë</td>\n",
       "    </tr>\n",
       "    <tr>\n",
       "      <th>1</th>\n",
       "      <td>/subjects/love</td>\n",
       "      <td>love</td>\n",
       "      <td>/works/OL468431W</td>\n",
       "      <td>subject</td>\n",
       "      <td>/authors/OL27349A</td>\n",
       "      <td>F. Scott Fitzgerald</td>\n",
       "    </tr>\n",
       "    <tr>\n",
       "      <th>2</th>\n",
       "      <td>/subjects/love</td>\n",
       "      <td>love</td>\n",
       "      <td>/works/OL98501W</td>\n",
       "      <td>subject</td>\n",
       "      <td>/authors/OL20188A</td>\n",
       "      <td>Edith Wharton</td>\n",
       "    </tr>\n",
       "    <tr>\n",
       "      <th>3</th>\n",
       "      <td>/subjects/love</td>\n",
       "      <td>love</td>\n",
       "      <td>/works/OL362427W</td>\n",
       "      <td>subject</td>\n",
       "      <td>/authors/OL9388A</td>\n",
       "      <td>William Shakespeare</td>\n",
       "    </tr>\n",
       "    <tr>\n",
       "      <th>4</th>\n",
       "      <td>/subjects/love</td>\n",
       "      <td>love</td>\n",
       "      <td>/works/OL51831W</td>\n",
       "      <td>subject</td>\n",
       "      <td>/authors/OL12823A</td>\n",
       "      <td>Πλάτων</td>\n",
       "    </tr>\n",
       "  </tbody>\n",
       "</table>\n",
       "</div>"
      ],
      "text/plain": [
       "      subject_key  name          book_key subject_type         author_key  \\\n",
       "0  /subjects/love  love   /works/OL21177W      subject  /authors/OL24529A   \n",
       "1  /subjects/love  love  /works/OL468431W      subject  /authors/OL27349A   \n",
       "2  /subjects/love  love   /works/OL98501W      subject  /authors/OL20188A   \n",
       "3  /subjects/love  love  /works/OL362427W      subject   /authors/OL9388A   \n",
       "4  /subjects/love  love   /works/OL51831W      subject  /authors/OL12823A   \n",
       "\n",
       "           author_name  \n",
       "0        Emily Brontë  \n",
       "1  F. Scott Fitzgerald  \n",
       "2        Edith Wharton  \n",
       "3  William Shakespeare  \n",
       "4               Πλάτων  "
      ]
     },
     "execution_count": 112,
     "metadata": {},
     "output_type": "execute_result"
    }
   ],
   "source": [
    "datasource_name = \"library_api__silver\"\n",
    "data_asset_name = \"authors_silver_asset\"\n",
    "expecation_suite_name = \"library__authors__expectation_suite\"\n",
    "datasource = context.sources.add_or_update_spark_filesystem(\n",
    "    name=datasource_name, base_directory=\"silver/\"\n",
    ")\n",
    "\n",
    "datasource.add_directory_delta_asset(\n",
    "    name=data_asset_name,\n",
    "    data_directory=\"authors/data/delta\"\n",
    ")\n",
    "\n",
    "context.add_or_update_expectation_suite(expecation_suite_name)\n",
    "assert expecation_suite_name in context.list_expectation_suite_names()\n",
    "\n",
    "my_asset = context.get_datasource(datasource_name).get_asset(data_asset_name)\n",
    "my_batch_request = my_asset.build_batch_request()\n",
    "\n",
    "validator = context.get_validator(\n",
    "    batch_request=my_batch_request,\n",
    "    expectation_suite_name=expecation_suite_name,\n",
    ")\n",
    "validator.head()"
   ]
  },
  {
   "cell_type": "code",
   "execution_count": 113,
   "metadata": {},
   "outputs": [
    {
     "name": "stderr",
     "output_type": "stream",
     "text": [
      "24/03/07 17:42:33 WARN CacheManager: Asked to cache already cached data.\n"
     ]
    },
    {
     "data": {
      "application/vnd.jupyter.widget-view+json": {
       "model_id": "547e4a002b3d4003a838d25ddb13e739",
       "version_major": 2,
       "version_minor": 0
      },
      "text/plain": [
       "Calculating Metrics: 0it [00:00, ?it/s]"
      ]
     },
     "metadata": {},
     "output_type": "display_data"
    },
    {
     "name": "stdout",
     "output_type": "stream",
     "text": [
      "all validation checks passed\n"
     ]
    },
    {
     "name": "stderr",
     "output_type": "stream",
     "text": [
      "24/03/07 17:54:37 WARN FileStreamSource: Listed 1 file(s) in 5510 ms\n"
     ]
    }
   ],
   "source": [
    "checkpoint = context.add_or_update_checkpoint(\n",
    "    name=\"library__silver_authors__checkpoint\",\n",
    "    validations=[\n",
    "        {\n",
    "            \"batch_request\": my_batch_request,\n",
    "            \"expectation_suite_name\": expecation_suite_name,\n",
    "        },\n",
    "    ],\n",
    ")\n",
    "results = checkpoint.run()\n",
    "if results.success:\n",
    "    print(\"all validation checks passed\")\n",
    "else:\n",
    "    print(\"something went wrong\")\n",
    "    print(results)\n",
    "    raise Exception"
   ]
  },
  {
   "cell_type": "markdown",
   "metadata": {},
   "source": [
    "## SQL Queries"
   ]
  },
  {
   "cell_type": "code",
   "execution_count": 89,
   "metadata": {},
   "outputs": [],
   "source": [
    "a = spark.read \\\n",
    "    .format(\"delta\") \\\n",
    "    .load(\"silver/authors/data/delta\")\n",
    "\n",
    "a.createOrReplaceTempView(\"authors\")\n",
    "b = spark.read \\\n",
    "    .format(\"delta\") \\\n",
    "    .load(\"silver/books/data/delta\")\n",
    "\n",
    "b.createOrReplaceTempView(\"books\")"
   ]
  },
  {
   "cell_type": "markdown",
   "metadata": {},
   "source": [
    "### The number of books written each year by an author."
   ]
  },
  {
   "cell_type": "code",
   "execution_count": 90,
   "metadata": {},
   "outputs": [
    {
     "name": "stderr",
     "output_type": "stream",
     "text": [
      "                                                                                \r"
     ]
    },
    {
     "data": {
      "text/html": [
       "<div>\n",
       "<style scoped>\n",
       "    .dataframe tbody tr th:only-of-type {\n",
       "        vertical-align: middle;\n",
       "    }\n",
       "\n",
       "    .dataframe tbody tr th {\n",
       "        vertical-align: top;\n",
       "    }\n",
       "\n",
       "    .dataframe thead th {\n",
       "        text-align: right;\n",
       "    }\n",
       "</style>\n",
       "<table border=\"1\" class=\"dataframe\">\n",
       "  <thead>\n",
       "    <tr style=\"text-align: right;\">\n",
       "      <th></th>\n",
       "      <th>author_key</th>\n",
       "      <th>author_name</th>\n",
       "      <th>first_publish_year</th>\n",
       "      <th>num_books_published</th>\n",
       "    </tr>\n",
       "  </thead>\n",
       "  <tbody>\n",
       "    <tr>\n",
       "      <th>0</th>\n",
       "      <td>/authors/OL9388A</td>\n",
       "      <td>William Shakespeare</td>\n",
       "      <td>1609</td>\n",
       "      <td>1</td>\n",
       "    </tr>\n",
       "    <tr>\n",
       "      <th>1</th>\n",
       "      <td>/authors/OL24529A</td>\n",
       "      <td>Emily Brontë</td>\n",
       "      <td>1847</td>\n",
       "      <td>1</td>\n",
       "    </tr>\n",
       "    <tr>\n",
       "      <th>2</th>\n",
       "      <td>/authors/OL20646A</td>\n",
       "      <td>Oscar Wilde</td>\n",
       "      <td>1893</td>\n",
       "      <td>1</td>\n",
       "    </tr>\n",
       "    <tr>\n",
       "      <th>3</th>\n",
       "      <td>/authors/OL9388A</td>\n",
       "      <td>William Shakespeare</td>\n",
       "      <td>1734</td>\n",
       "      <td>1</td>\n",
       "    </tr>\n",
       "    <tr>\n",
       "      <th>4</th>\n",
       "      <td>/authors/OL26783A</td>\n",
       "      <td>Lev Nikolaevič Tolstoy</td>\n",
       "      <td>1876</td>\n",
       "      <td>1</td>\n",
       "    </tr>\n",
       "  </tbody>\n",
       "</table>\n",
       "</div>"
      ],
      "text/plain": [
       "          author_key             author_name  first_publish_year  \\\n",
       "0   /authors/OL9388A     William Shakespeare                1609   \n",
       "1  /authors/OL24529A           Emily Brontë                1847   \n",
       "2  /authors/OL20646A             Oscar Wilde                1893   \n",
       "3   /authors/OL9388A     William Shakespeare                1734   \n",
       "4  /authors/OL26783A  Lev Nikolaevič Tolstoy                1876   \n",
       "\n",
       "   num_books_published  \n",
       "0                    1  \n",
       "1                    1  \n",
       "2                    1  \n",
       "3                    1  \n",
       "4                    1  "
      ]
     },
     "execution_count": 90,
     "metadata": {},
     "output_type": "execute_result"
    }
   ],
   "source": [
    "books_by_author_per_year = spark.sql(\n",
    "    \"\"\"\n",
    "    WITH joined AS (\n",
    "        SELECT\n",
    "            a.author_key,\n",
    "            a.author_name,\n",
    "            b.first_publish_year,\n",
    "            count(*) as num_books_published\n",
    "        FROM authors as a\n",
    "        INNER JOIN books as b\n",
    "            ON a.book_key = b.works_key\n",
    "        GROUP BY ALL\n",
    "            \n",
    "    )\n",
    "    SELECT *\n",
    "    from joined\n",
    "    \"\"\"\n",
    ")\n",
    "books_by_author_per_year.createOrReplaceTempView(\"books_per_year\")\n",
    "books_by_author_per_year.toPandas().head()"
   ]
  },
  {
   "cell_type": "markdown",
   "metadata": {},
   "source": [
    "### The average number of books written by an author per year."
   ]
  },
  {
   "cell_type": "code",
   "execution_count": 91,
   "metadata": {},
   "outputs": [
    {
     "data": {
      "text/html": [
       "<div>\n",
       "<style scoped>\n",
       "    .dataframe tbody tr th:only-of-type {\n",
       "        vertical-align: middle;\n",
       "    }\n",
       "\n",
       "    .dataframe tbody tr th {\n",
       "        vertical-align: top;\n",
       "    }\n",
       "\n",
       "    .dataframe thead th {\n",
       "        text-align: right;\n",
       "    }\n",
       "</style>\n",
       "<table border=\"1\" class=\"dataframe\">\n",
       "  <thead>\n",
       "    <tr style=\"text-align: right;\">\n",
       "      <th></th>\n",
       "      <th>avg_books_published</th>\n",
       "    </tr>\n",
       "  </thead>\n",
       "  <tbody>\n",
       "    <tr>\n",
       "      <th>0</th>\n",
       "      <td>1.0</td>\n",
       "    </tr>\n",
       "  </tbody>\n",
       "</table>\n",
       "</div>"
      ],
      "text/plain": [
       "   avg_books_published\n",
       "0                  1.0"
      ]
     },
     "execution_count": 91,
     "metadata": {},
     "output_type": "execute_result"
    }
   ],
   "source": [
    "spark.sql(\n",
    "    \"\"\"\n",
    "    SELECT AVG(num_books_published) as avg_books_published\n",
    "    FROM books_per_year\n",
    "    \"\"\"\n",
    ").toPandas().head()"
   ]
  },
  {
   "cell_type": "markdown",
   "metadata": {},
   "source": [
    "## Save csv"
   ]
  },
  {
   "cell_type": "code",
   "execution_count": 101,
   "metadata": {},
   "outputs": [],
   "source": [
    "books =spark.read.format(\"delta\").load(\"silver/books/data/delta\")\n",
    "books_pd = books.toPandas()\n",
    "authors =spark.read.format(\"delta\").load(\"silver/authors/data/delta\")\n",
    "authors_pd = authors.toPandas()\n"
   ]
  },
  {
   "cell_type": "code",
   "execution_count": 103,
   "metadata": {},
   "outputs": [],
   "source": [
    "books_pd.to_csv(\"books.csv\")\n",
    "authors_pd.to_csv(\"authors.csv\")"
   ]
  },
  {
   "cell_type": "code",
   "execution_count": null,
   "metadata": {},
   "outputs": [],
   "source": []
  }
 ],
 "metadata": {
  "kernelspec": {
   "display_name": "Python 3 (ipykernel)",
   "language": "python",
   "name": "python3"
  },
  "language_info": {
   "codemirror_mode": {
    "name": "ipython",
    "version": 3
   },
   "file_extension": ".py",
   "mimetype": "text/x-python",
   "name": "python",
   "nbconvert_exporter": "python",
   "pygments_lexer": "ipython3",
   "version": "3.8.10"
  }
 },
 "nbformat": 4,
 "nbformat_minor": 4
}
